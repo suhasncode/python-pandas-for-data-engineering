{
 "cells": [
  {
   "cell_type": "markdown",
   "metadata": {},
   "source": [
    "# Comprehensions and Generators"
   ]
  },
  {
   "cell_type": "markdown",
   "metadata": {},
   "source": [
    "1. Write a list comprehension which returns the square of each number from 0 to 15"
   ]
  },
  {
   "cell_type": "code",
   "execution_count": 1,
   "metadata": {},
   "outputs": [
    {
     "data": {
      "text/plain": [
       "[0, 1, 4, 9, 16, 25, 36, 49, 64, 81, 100, 121, 144, 169, 196]"
      ]
     },
     "execution_count": 1,
     "metadata": {},
     "output_type": "execute_result"
    }
   ],
   "source": [
    "[x**2 for x  in range(15)        ]"
   ]
  },
  {
   "cell_type": "markdown",
   "metadata": {},
   "source": [
    " 2. The expression `x%4==0` will return `True` if 4 is a factor of `x`. Write a list comprehension which will return numbers from 0 to 20 which have 4 as a factor. "
   ]
  },
  {
   "cell_type": "code",
   "execution_count": 3,
   "metadata": {},
   "outputs": [
    {
     "data": {
      "text/plain": [
       "[0, 4, 8, 12, 16]"
      ]
     },
     "execution_count": 3,
     "metadata": {},
     "output_type": "execute_result"
    }
   ],
   "source": [
    "[x for x in range(20) if x%4 == 0]"
   ]
  },
  {
   "cell_type": "markdown",
   "metadata": {},
   "source": [
    "3. Write a generator function which will return the string 'foo' every fifth call, and 'moo' otherwise."
   ]
  },
  {
   "cell_type": "code",
   "execution_count": 5,
   "metadata": {},
   "outputs": [
    {
     "name": "stdout",
     "output_type": "stream",
     "text": [
      "foo\n",
      "0\n",
      "moo\n",
      "1\n",
      "moo\n",
      "2\n",
      "moo\n",
      "3\n",
      "moo\n",
      "4\n",
      "foo\n",
      "5\n",
      "moo\n",
      "6\n",
      "moo\n",
      "7\n",
      "moo\n",
      "8\n",
      "moo\n",
      "9\n",
      "foo\n",
      "10\n"
     ]
    }
   ],
   "source": [
    "def foo_moo():\n",
    "    i = 0\n",
    "    while True:\n",
    "        if i%5==0:\n",
    "            print('foo')\n",
    "            yield i      \n",
    "        else:\n",
    "            print('moo')\n",
    "            yield i\n",
    "        i += 1\n",
    "    \n",
    "fm = foo_moo()\n",
    "\n",
    "for _ in range(11):\n",
    "    print(next(fm))"
   ]
  },
  {
   "cell_type": "markdown",
   "metadata": {},
   "source": [
    "4. A comprehension using curly brackets will produce a dictionary. Set the variable 'name' to your name and use it to create a dictionary "
   ]
  },
  {
   "cell_type": "code",
   "execution_count": 7,
   "metadata": {},
   "outputs": [
    {
     "data": {
      "text/plain": [
       "{'h': 0, 'e': 1, 'm': 2, 'r': 3, 'i': 4}"
      ]
     },
     "execution_count": 7,
     "metadata": {},
     "output_type": "execute_result"
    }
   ],
   "source": [
    "name = 'hemri'\n",
    "items = zip(list(name), list(range(len(name))))\n",
    "items\n",
    "{x:y for x,y in items}"
   ]
  }
 ],
 "metadata": {
  "kernelspec": {
   "display_name": "Python 3",
   "language": "python",
   "name": "python3"
  },
  "language_info": {
   "codemirror_mode": {
    "name": "ipython",
    "version": 3
   },
   "file_extension": ".py",
   "mimetype": "text/x-python",
   "name": "python",
   "nbconvert_exporter": "python",
   "pygments_lexer": "ipython3",
   "version": "3.7.6"
  }
 },
 "nbformat": 4,
 "nbformat_minor": 4
}
